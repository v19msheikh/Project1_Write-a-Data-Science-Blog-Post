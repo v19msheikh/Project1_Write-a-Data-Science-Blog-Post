{
 "cells": [
  {
   "cell_type": "markdown",
   "metadata": {},
   "source": [
    "<h2>Objectives</h2>\n",
    "\n",
    "- What was the developers Profession and formal education ?\n",
    "- which Countries data was collected from during survey?\n",
    "- How satisfied were the working professionals?\n",
    "- How education may influence the salary?\n",
    "- The rate of increase in salary with the years of experience\n",
    "\n"
   ]
  },
  {
   "cell_type": "code",
   "execution_count": 19,
   "metadata": {
    "collapsed": true
   },
   "outputs": [],
   "source": [
    "# Importing Libraries\n",
    "import pandas as pd\n",
    "import numpy as np\n",
    "import matplotlib.pyplot as plt\n",
    "from IPython import display\n",
    "%matplotlib inline"
   ]
  },
  {
   "cell_type": "code",
   "execution_count": 20,
   "metadata": {},
   "outputs": [
    {
     "data": {
      "text/plain": [
       "(51392, 154)"
      ]
     },
     "execution_count": 20,
     "metadata": {},
     "output_type": "execute_result"
    }
   ],
   "source": [
    "# Importing Dataset \n",
    "df = pd.read_csv('survey_results_public.csv')\n",
    "schema = pd.read_csv('survey_results_schema.csv')\n",
    "\n",
    "# Creating copies of original dataset\n",
    "question_1 = df.copy(deep=True)\n",
    "question_2 = df.copy(deep=True)\n",
    "df.shape"
   ]
  },
  {
   "cell_type": "code",
   "execution_count": 21,
   "metadata": {
    "collapsed": true
   },
   "outputs": [],
   "source": [
    "def get_description(column_name, schema=schema):\n",
    "    '''\n",
    "    SUMMARY: \n",
    "            Returns the description of a column\n",
    "    INPUT:\n",
    "            schema - pandas dataframe with the schema of the developers survey\n",
    "            column_name - string - the name of the column you would like to know about\n",
    "    OUTPUT: \n",
    "            desc - string - the description of the column\n",
    "    '''\n",
    "    desc = list(schema[schema['Column'] == column_name]['Question'])[0]\n",
    "    return desc"
   ]
  },
  {
   "cell_type": "code",
   "execution_count": 22,
   "metadata": {
    "collapsed": true
   },
   "outputs": [],
   "source": [
    "def grouping_function(data, column_name):\n",
    "    \"\"\" \n",
    "    SUMMARY: \n",
    "            Returns a grouped dataframe\n",
    "    \n",
    "    INPUT: \n",
    "            data (object): 2-D Dataframe\n",
    "            column_name (char): Column which is to be grouped by\n",
    "  \n",
    "    Returns: \n",
    "            GroupBy object with mean\n",
    "    \"\"\"\n",
    "    \n",
    "    grouped_df = data.groupby([column_name]).mean().reset_index()\n",
    "    return grouped_df"
   ]
  },
  {
   "cell_type": "code",
   "execution_count": 23,
   "metadata": {
    "collapsed": true
   },
   "outputs": [],
   "source": [
    "def plot_graph(data, x_data, y_data):\n",
    "    \"\"\" \n",
    "    SUMMARY: \n",
    "            Plot y versus x as lines and/or markers.\n",
    "    \n",
    "    INPUT: \n",
    "            data (object): 2-D Dataframe\n",
    "            x_data (char): Data Column for x-axis\n",
    "            y_data (char): Data Column for y-axis\n",
    "  \n",
    "    OUTPUT: \n",
    "            Axes Instance\n",
    "    \"\"\"\n",
    "    \n",
    "    ax = data.plot.barh(x=x_data, y=y_data, rot=0)\n",
    "    return ax"
   ]
  },
  {
   "cell_type": "markdown",
   "metadata": {
    "collapsed": true
   },
   "source": [
    "<h2>1.What was the developers Profession and formal education?</h2>"
   ]
  },
  {
   "cell_type": "code",
   "execution_count": 47,
   "metadata": {
    "scrolled": true
   },
   "outputs": [
    {
     "data": {
      "text/plain": [
       "Professional developer                                  36131\n",
       "Student                                                  8224\n",
       "Professional non-developer who sometimes writes code     5140\n",
       "Used to be a professional developer                       983\n",
       "None of these                                             914\n",
       "Name: Professional, dtype: int64"
      ]
     },
     "execution_count": 47,
     "metadata": {},
     "output_type": "execute_result"
    }
   ],
   "source": [
    "profession_dev=df['Professional'].value_counts() #counts different number of professionals\n",
    "profession_dev"
   ]
  },
  {
   "cell_type": "code",
   "execution_count": 48,
   "metadata": {
    "scrolled": true
   },
   "outputs": [
    {
     "data": {
      "image/png": "[encoded data removed]",
      "text/plain": [
       "<matplotlib.figure.Figure at 0xef6cab0>"
      ]
     },
     "metadata": {},
     "output_type": "display_data"
    }
   ],
   "source": [
    "(profession_dev/df.shape[0]).plot(kind='bar')\n",
    "plt.title(\"Developers Profession\");"
   ]
  },
  {
   "cell_type": "markdown",
   "metadata": {},
   "source": [
    "<h2>2.which Countries data was collected from during survey?</h2>"
   ]
  },
  {
   "cell_type": "code",
   "execution_count": 65,
   "metadata": {},
   "outputs": [
    {
     "data": {
      "text/plain": [
       "United States         11455\n",
       "India                  5197\n",
       "United Kingdom         4395\n",
       "Germany                4143\n",
       "Canada                 2233\n",
       "France                 1740\n",
       "Poland                 1290\n",
       "Australia               913\n",
       "Russian Federation      873\n",
       "Spain                   864\n",
       "Netherlands             855\n",
       "Italy                   781\n",
       "Brazil                  777\n",
       "Sweden                  611\n",
       "Switzerland             595\n",
       "Israel                  575\n",
       "Romania                 561\n",
       "Iran                    507\n",
       "Austria                 477\n",
       "Pakistan                454\n",
       "Name: Country, dtype: int64"
      ]
     },
     "execution_count": 65,
     "metadata": {},
     "output_type": "execute_result"
    }
   ],
   "source": [
    "country=df['Country'].value_counts() #counts top (20) distinct countries from the dataset\n",
    "country.head(20)"
   ]
  },
  {
   "cell_type": "code",
   "execution_count": 66,
   "metadata": {
    "scrolled": true
   },
   "outputs": [
    {
     "data": {
      "image/png": "[encoded data removed]",
      "text/plain": [
       "<matplotlib.figure.Figure at 0xd6d12d0>"
      ]
     },
     "metadata": {},
     "output_type": "display_data"
    }
   ],
   "source": [
    "(country[:20]/df.shape[0]).plot(kind='bar')\n",
    "plt.title(\"Country's\");"
   ]
  },
  {
   "cell_type": "markdown",
   "metadata": {},
   "source": [
    "\n",
    "<h2>3. How satisfied were the working professionals?</h2>"
   ]
  },
  {
   "cell_type": "code",
   "execution_count": 71,
   "metadata": {
    "scrolled": true
   },
   "outputs": [
    {
     "data": {
      "text/plain": [
       "FormalEducation\n",
       "I never completed any formal education                               6.833333\n",
       "Bachelor's degree                                                    6.866363\n",
       "Master's degree                                                      6.953151\n",
       "Primary/elementary school                                            6.956897\n",
       "I prefer not to answer                                               7.005682\n",
       "Some college/university study without earning a bachelor's degree    7.081334\n",
       "Professional degree                                                  7.087459\n",
       "Secondary school                                                     7.143082\n",
       "Doctoral degree                                                      7.348857\n",
       "Name: JobSatisfaction, dtype: float64"
      ]
     },
     "execution_count": 71,
     "metadata": {},
     "output_type": "execute_result"
    }
   ],
   "source": [
    "job_satisfaction=df.groupby(['FormalEducation']).mean()['JobSatisfaction'].sort_values().dropna() \n",
    "job_satisfaction"
   ]
  },
  {
   "cell_type": "markdown",
   "metadata": {},
   "source": [
    "In the code cell above I dropped the rows with nan in JobSatisfaction column because here we cannot impute the nan values in the JobSatisfaction column with mean or mode of the column as there are about 20% of the data in Jobsatisfaction column which belongs to nan and it contiutes to a large amount of data which can change our entire analysis. Also imputing with mean or mode may prove to be absurd as each person will have its own choice of rating for satisfaction and we cannot rely on mean or mode values for that as a person may have too less or too large rating as compared to mean and mode of the column."
   ]
  },
  {
   "cell_type": "code",
   "execution_count": 74,
   "metadata": {},
   "outputs": [
    {
     "data": {
      "text/plain": [
       "<matplotlib.text.Text at 0x3cfaed0>"
      ]
     },
     "execution_count": 74,
     "metadata": {},
     "output_type": "execute_result"
    },
    {
     "data": {
      "image/png": "[encoded data removed]",
      "text/plain": [
       "<matplotlib.figure.Figure at 0x3d4d650>"
      ]
     },
     "metadata": {},
     "output_type": "display_data"
    }
   ],
   "source": [
    "(job_satisfaction).plot(kind='bar')\n",
    "plt.ylim(6.5, 7.5)\n",
    "plt.title('Job Satisfaction of different Professionals')"
   ]
  },
  {
   "cell_type": "markdown",
   "metadata": {},
   "source": [
    "<h2>4. How education may influence the salary?</h2>"
   ]
  },
  {
   "cell_type": "markdown",
   "metadata": {},
   "source": [
    "We need to find the average salary of each education entry. Let's get the description of some relevant columns according to our requirement:"
   ]
  },
  {
   "cell_type": "code",
   "execution_count": 52,
   "metadata": {
    "scrolled": true
   },
   "outputs": [
    {
     "name": "stdout",
     "output_type": "stream",
     "text": [
      "Which of the following best describes the highest level of formal education that you've completed?\n",
      "What is your current annual base salary, before taxes, and excluding bonuses, grants, or other compensation?\n"
     ]
    }
   ],
   "source": [
    "print(get_description('FormalEducation'))\n",
    "print(get_description('Salary'))"
   ]
  },
  {
   "cell_type": "markdown",
   "metadata": {},
   "source": [
    "For this objective, **FormalEducation** and **Salary** column seems to be best fit to our need. So, we are going to go ahead with these two columns"
   ]
  },
  {
   "cell_type": "code",
   "execution_count": 78,
   "metadata": {
    "scrolled": false
   },
   "outputs": [
    {
     "data": {
      "text/html": [
       "<div>\n",
       "<style>\n",
       "    .dataframe thead tr:only-child th {\n",
       "        text-align: right;\n",
       "    }\n",
       "\n",
       "    .dataframe thead th {\n",
       "        text-align: left;\n",
       "    }\n",
       "\n",
       "    .dataframe tbody tr th {\n",
       "        vertical-align: top;\n",
       "    }\n",
       "</style>\n",
       "<table border=\"1\" class=\"dataframe\">\n",
       "  <thead>\n",
       "    <tr style=\"text-align: right;\">\n",
       "      <th></th>\n",
       "      <th>FormalEducation</th>\n",
       "      <th>Salary</th>\n",
       "    </tr>\n",
       "  </thead>\n",
       "  <tbody>\n",
       "    <tr>\n",
       "      <th>0</th>\n",
       "      <td>Bachelor's degree</td>\n",
       "      <td>56914.358553</td>\n",
       "    </tr>\n",
       "    <tr>\n",
       "      <th>1</th>\n",
       "      <td>Doctoral degree</td>\n",
       "      <td>78527.933053</td>\n",
       "    </tr>\n",
       "    <tr>\n",
       "      <th>2</th>\n",
       "      <td>I never completed any formal education</td>\n",
       "      <td>44430.660621</td>\n",
       "    </tr>\n",
       "    <tr>\n",
       "      <th>3</th>\n",
       "      <td>I prefer not to answer</td>\n",
       "      <td>38284.836141</td>\n",
       "    </tr>\n",
       "    <tr>\n",
       "      <th>4</th>\n",
       "      <td>Master's degree</td>\n",
       "      <td>58250.838766</td>\n",
       "    </tr>\n",
       "    <tr>\n",
       "      <th>5</th>\n",
       "      <td>Primary/elementary school</td>\n",
       "      <td>62677.337356</td>\n",
       "    </tr>\n",
       "    <tr>\n",
       "      <th>6</th>\n",
       "      <td>Professional degree</td>\n",
       "      <td>39503.658863</td>\n",
       "    </tr>\n",
       "    <tr>\n",
       "      <th>7</th>\n",
       "      <td>Secondary school</td>\n",
       "      <td>40395.148419</td>\n",
       "    </tr>\n",
       "    <tr>\n",
       "      <th>8</th>\n",
       "      <td>Some college/university study without earning ...</td>\n",
       "      <td>55912.810459</td>\n",
       "    </tr>\n",
       "  </tbody>\n",
       "</table>\n",
       "</div>"
      ],
      "text/plain": [
       "                                     FormalEducation        Salary\n",
       "0                                  Bachelor's degree  56914.358553\n",
       "1                                    Doctoral degree  78527.933053\n",
       "2             I never completed any formal education  44430.660621\n",
       "3                             I prefer not to answer  38284.836141\n",
       "4                                    Master's degree  58250.838766\n",
       "5                          Primary/elementary school  62677.337356\n",
       "6                                Professional degree  39503.658863\n",
       "7                                   Secondary school  40395.148419\n",
       "8  Some college/university study without earning ...  55912.810459"
      ]
     },
     "execution_count": 78,
     "metadata": {},
     "output_type": "execute_result"
    }
   ],
   "source": [
    "result_1 = grouping_function(question_1, 'FormalEducation')\n",
    "result_1[['FormalEducation', 'Salary']]"
   ]
  },
  {
   "cell_type": "code",
   "execution_count": 54,
   "metadata": {},
   "outputs": [
    {
     "data": {
      "image/png": "[encoded data removed]",
      "text/plain": [
       "<matplotlib.figure.Figure at 0xd5b28d0>"
      ]
     },
     "metadata": {},
     "output_type": "display_data"
    }
   ],
   "source": [
    "# Visualisation for objective 1\n",
    "ax1 = plot_graph(result_1, 'FormalEducation', 'Salary')"
   ]
  },
  {
   "cell_type": "markdown",
   "metadata": {},
   "source": [
    "**Summary:** The developers who own a Doctoral Degree get the highest salary of USD 78,527, followed by Primary/Elementary School graduates at USD 62,677 and Master's Degree holder at normal pay of USD 58,250."
   ]
  },
  {
   "cell_type": "markdown",
   "metadata": {},
   "source": [
    "<h2>5. Rate of increase of salary with years of experience</h2>"
   ]
  },
  {
   "cell_type": "markdown",
   "metadata": {},
   "source": [
    "First step is to choose the column of our need. Let's have a look on **YearsProgram** and **Salary** column:"
   ]
  },
  {
   "cell_type": "code",
   "execution_count": 55,
   "metadata": {},
   "outputs": [
    {
     "name": "stdout",
     "output_type": "stream",
     "text": [
      "How long has it been since you first learned how to program?\n",
      "What is your current annual base salary, before taxes, and excluding bonuses, grants, or other compensation?\n"
     ]
    }
   ],
   "source": [
    "print(get_description('YearsProgram'))\n",
    "print(get_description('Salary'))"
   ]
  },
  {
   "cell_type": "markdown",
   "metadata": {},
   "source": [
    "Here we will use the year when any individual learned first program. Let's not confused it with the number of years an individual has been in the industry professionally. We will use our _groupby_ function to group the **YearsProgram** with the average of **Salary**"
   ]
  },
  {
   "cell_type": "code",
   "execution_count": 56,
   "metadata": {},
   "outputs": [
    {
     "data": {
      "text/html": [
       "<div>\n",
       "<style>\n",
       "    .dataframe thead tr:only-child th {\n",
       "        text-align: right;\n",
       "    }\n",
       "\n",
       "    .dataframe thead th {\n",
       "        text-align: left;\n",
       "    }\n",
       "\n",
       "    .dataframe tbody tr th {\n",
       "        vertical-align: top;\n",
       "    }\n",
       "</style>\n",
       "<table border=\"1\" class=\"dataframe\">\n",
       "  <thead>\n",
       "    <tr style=\"text-align: right;\">\n",
       "      <th></th>\n",
       "      <th>YearsProgram</th>\n",
       "      <th>Salary</th>\n",
       "    </tr>\n",
       "  </thead>\n",
       "  <tbody>\n",
       "    <tr>\n",
       "      <th>0</th>\n",
       "      <td>1 to 2 years</td>\n",
       "      <td>35625.727186</td>\n",
       "    </tr>\n",
       "    <tr>\n",
       "      <th>1</th>\n",
       "      <td>10 to 11 years</td>\n",
       "      <td>47723.234743</td>\n",
       "    </tr>\n",
       "    <tr>\n",
       "      <th>2</th>\n",
       "      <td>11 to 12 years</td>\n",
       "      <td>55617.139567</td>\n",
       "    </tr>\n",
       "    <tr>\n",
       "      <th>3</th>\n",
       "      <td>12 to 13 years</td>\n",
       "      <td>56225.344348</td>\n",
       "    </tr>\n",
       "    <tr>\n",
       "      <th>4</th>\n",
       "      <td>13 to 14 years</td>\n",
       "      <td>56449.998540</td>\n",
       "    </tr>\n",
       "    <tr>\n",
       "      <th>5</th>\n",
       "      <td>14 to 15 years</td>\n",
       "      <td>63527.583591</td>\n",
       "    </tr>\n",
       "    <tr>\n",
       "      <th>6</th>\n",
       "      <td>15 to 16 years</td>\n",
       "      <td>63149.645686</td>\n",
       "    </tr>\n",
       "    <tr>\n",
       "      <th>7</th>\n",
       "      <td>16 to 17 years</td>\n",
       "      <td>65109.493505</td>\n",
       "    </tr>\n",
       "    <tr>\n",
       "      <th>8</th>\n",
       "      <td>17 to 18 years</td>\n",
       "      <td>74186.535157</td>\n",
       "    </tr>\n",
       "    <tr>\n",
       "      <th>9</th>\n",
       "      <td>18 to 19 years</td>\n",
       "      <td>70397.724801</td>\n",
       "    </tr>\n",
       "    <tr>\n",
       "      <th>10</th>\n",
       "      <td>19 to 20 years</td>\n",
       "      <td>73228.867280</td>\n",
       "    </tr>\n",
       "    <tr>\n",
       "      <th>11</th>\n",
       "      <td>2 to 3 years</td>\n",
       "      <td>33140.925726</td>\n",
       "    </tr>\n",
       "    <tr>\n",
       "      <th>12</th>\n",
       "      <td>20 or more years</td>\n",
       "      <td>84323.386020</td>\n",
       "    </tr>\n",
       "    <tr>\n",
       "      <th>13</th>\n",
       "      <td>3 to 4 years</td>\n",
       "      <td>38169.784702</td>\n",
       "    </tr>\n",
       "    <tr>\n",
       "      <th>14</th>\n",
       "      <td>4 to 5 years</td>\n",
       "      <td>37945.601195</td>\n",
       "    </tr>\n",
       "    <tr>\n",
       "      <th>15</th>\n",
       "      <td>5 to 6 years</td>\n",
       "      <td>40812.610874</td>\n",
       "    </tr>\n",
       "    <tr>\n",
       "      <th>16</th>\n",
       "      <td>6 to 7 years</td>\n",
       "      <td>41932.453974</td>\n",
       "    </tr>\n",
       "    <tr>\n",
       "      <th>17</th>\n",
       "      <td>7 to 8 years</td>\n",
       "      <td>43901.717442</td>\n",
       "    </tr>\n",
       "    <tr>\n",
       "      <th>18</th>\n",
       "      <td>8 to 9 years</td>\n",
       "      <td>46125.956771</td>\n",
       "    </tr>\n",
       "    <tr>\n",
       "      <th>19</th>\n",
       "      <td>9 to 10 years</td>\n",
       "      <td>49300.837745</td>\n",
       "    </tr>\n",
       "    <tr>\n",
       "      <th>20</th>\n",
       "      <td>Less than a year</td>\n",
       "      <td>27349.336436</td>\n",
       "    </tr>\n",
       "  </tbody>\n",
       "</table>\n",
       "</div>"
      ],
      "text/plain": [
       "        YearsProgram        Salary\n",
       "0       1 to 2 years  35625.727186\n",
       "1     10 to 11 years  47723.234743\n",
       "2     11 to 12 years  55617.139567\n",
       "3     12 to 13 years  56225.344348\n",
       "4     13 to 14 years  56449.998540\n",
       "5     14 to 15 years  63527.583591\n",
       "6     15 to 16 years  63149.645686\n",
       "7     16 to 17 years  65109.493505\n",
       "8     17 to 18 years  74186.535157\n",
       "9     18 to 19 years  70397.724801\n",
       "10    19 to 20 years  73228.867280\n",
       "11      2 to 3 years  33140.925726\n",
       "12  20 or more years  84323.386020\n",
       "13      3 to 4 years  38169.784702\n",
       "14      4 to 5 years  37945.601195\n",
       "15      5 to 6 years  40812.610874\n",
       "16      6 to 7 years  41932.453974\n",
       "17      7 to 8 years  43901.717442\n",
       "18      8 to 9 years  46125.956771\n",
       "19     9 to 10 years  49300.837745\n",
       "20  Less than a year  27349.336436"
      ]
     },
     "execution_count": 56,
     "metadata": {},
     "output_type": "execute_result"
    }
   ],
   "source": [
    "result_2 = grouping_function(question_2, 'YearsProgram')\n",
    "result_2[['YearsProgram', 'Salary']]"
   ]
  },
  {
   "cell_type": "code",
   "execution_count": 69,
   "metadata": {},
   "outputs": [
    {
     "data": {
      "image/png": "[encoded data removed]",
      "text/plain": [
       "<matplotlib.figure.Figure at 0xf74a950>"
      ]
     },
     "metadata": {},
     "output_type": "display_data"
    }
   ],
   "source": [
    "# Visualisation for objective 3\n",
    "ax2 = plot_graph(result_2, 'YearsProgram', 'Salary')"
   ]
  },
  {
   "cell_type": "markdown",
   "metadata": {},
   "source": [
    "**Summary:** With no surprise, the pattern is linear over the number of years of experience. Those very new to the tech industry, with less than a year of experience, can expect to get a normal pay of USD 24,673 (a year-over-year increment of 12.16 percent). Following a year or two, that normal pay hops to USD 33,953 (a whopping 37.6 percent expansion, year-over-year)."
   ]
  },
  {
   "cell_type": "code",
   "execution_count": null,
   "metadata": {
    "collapsed": true
   },
   "outputs": [],
   "source": []
  }
 ],
 "metadata": {
  "kernelspec": {
   "display_name": "Python 3",
   "language": "python",
   "name": "python3"
  },
  "language_info": {
   "codemirror_mode": {
    "name": "ipython",
    "version": 3
   },
   "file_extension": ".py",
   "mimetype": "text/x-python",
   "name": "python",
   "nbconvert_exporter": "python",
   "pygments_lexer": "ipython3",
   "version": "3.6.1"
  }
 },
 "nbformat": 4,
 "nbformat_minor": 2
}
